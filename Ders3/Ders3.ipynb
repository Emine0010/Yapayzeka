{
 "cells": [
  {
   "cell_type": "code",
   "execution_count": 1,
   "id": "a63ffcc4-2d72-406f-97a5-b409e918c9be",
   "metadata": {},
   "outputs": [],
   "source": [
    "import numpy as np"
   ]
  },
  {
   "cell_type": "markdown",
   "id": "35a92abd-c7dd-4822-ab59-40d92eb1c764",
   "metadata": {},
   "source": [
    "### Numpy (NumericPython)\n",
    "Pythonda matematiksel işlemleri hızlı bir biçimde yapabilmemizi sağlayan kütüphanedir"
   ]
  },
  {
   "cell_type": "code",
   "execution_count": 2,
   "id": "76771ee6-e3d0-4cf5-b06c-d2c7e00ddbd1",
   "metadata": {},
   "outputs": [],
   "source": [
    "p_list = list(range(1_000_000)) #klasik python listesi\n",
    "np_array = np.array(p_list) #1m elemanı olan np array"
   ]
  },
  {
   "cell_type": "code",
   "execution_count": 3,
   "id": "b9ee4de9-5659-4871-bcf4-d65c62c9b7e2",
   "metadata": {},
   "outputs": [
    {
     "name": "stdout",
     "output_type": "stream",
     "text": [
      "191 ms ± 19.3 ms per loop (mean ± std. dev. of 7 runs, 1 loop each)\n"
     ]
    }
   ],
   "source": [
    "%%timeit\n",
    "[x+1 for x in p_list]"
   ]
  },
  {
   "cell_type": "code",
   "execution_count": 4,
   "id": "bee979ae-cd8d-47d2-99cd-96e7e3170dde",
   "metadata": {},
   "outputs": [
    {
     "name": "stdout",
     "output_type": "stream",
     "text": [
      "5.74 ms ± 82.3 µs per loop (mean ± std. dev. of 7 runs, 100 loops each)\n"
     ]
    }
   ],
   "source": [
    "%%timeit\n",
    "np_array + 1 "
   ]
  },
  {
   "cell_type": "code",
   "execution_count": 5,
   "id": "68a04b77-1700-4c83-b090-72867f8fd7b3",
   "metadata": {},
   "outputs": [],
   "source": [
    "arr1 = np.array(1)"
   ]
  },
  {
   "cell_type": "code",
   "execution_count": 6,
   "id": "1464418b-7103-4671-b597-0f6030b352ca",
   "metadata": {},
   "outputs": [
    {
     "data": {
      "text/plain": [
       "numpy.ndarray"
      ]
     },
     "execution_count": 6,
     "metadata": {},
     "output_type": "execute_result"
    }
   ],
   "source": [
    "type(arr1) #ndarray -> n-dimensional array "
   ]
  },
  {
   "cell_type": "code",
   "execution_count": 7,
   "id": "aaacd0a3-f441-47cf-a72a-4353a2951a88",
   "metadata": {},
   "outputs": [
    {
     "data": {
      "text/plain": [
       "0"
      ]
     },
     "execution_count": 7,
     "metadata": {},
     "output_type": "execute_result"
    }
   ],
   "source": [
    "arr1.ndim # ndim -> ndimension (boyutu) - > 0 "
   ]
  },
  {
   "cell_type": "code",
   "execution_count": 8,
   "id": "740a48e6-6472-4e9f-a820-9c7f684ca2d8",
   "metadata": {},
   "outputs": [
    {
     "data": {
      "text/plain": [
       "(1, (3,))"
      ]
     },
     "execution_count": 8,
     "metadata": {},
     "output_type": "execute_result"
    }
   ],
   "source": [
    "arr2 = np.array([10,20,30])\n",
    "arr2.ndim, arr2.shape #1D Array (vector)"
   ]
  },
  {
   "cell_type": "code",
   "execution_count": 9,
   "id": "554a73f1-a658-4ea6-8c39-2b6aff7eed3d",
   "metadata": {},
   "outputs": [
    {
     "data": {
      "text/plain": [
       "(1, (3,))"
      ]
     },
     "execution_count": 9,
     "metadata": {},
     "output_type": "execute_result"
    }
   ],
   "source": [
    "arr3 = np.array([40,50,60])\n",
    "arr3.ndim, arr3.shape "
   ]
  },
  {
   "cell_type": "code",
   "execution_count": 11,
   "id": "87cebe85-4101-49ba-9dfb-52abab2c7ccd",
   "metadata": {},
   "outputs": [
    {
     "data": {
      "text/plain": [
       "array([50, 70, 90])"
      ]
     },
     "execution_count": 11,
     "metadata": {},
     "output_type": "execute_result"
    }
   ],
   "source": [
    "result = arr3 + arr2\n",
    "result"
   ]
  },
  {
   "cell_type": "code",
   "execution_count": 12,
   "id": "9d921722-5a45-4b57-a449-e7a0eb6f1d44",
   "metadata": {},
   "outputs": [
    {
     "data": {
      "text/plain": [
       "array([30, 30, 30])"
      ]
     },
     "execution_count": 12,
     "metadata": {},
     "output_type": "execute_result"
    }
   ],
   "source": [
    "result2 = arr3 - arr2 \n",
    "result2 "
   ]
  },
  {
   "cell_type": "code",
   "execution_count": 14,
   "id": "af4215c6-41e3-4a3a-95f7-f44bfb5bbf13",
   "metadata": {},
   "outputs": [],
   "source": [
    "arr4 = np.array ([100,200])\n",
    "# arr3*arr4 #Shape uyuşmazlığı olması durumunda matematiksel işlemler yapılamaz."
   ]
  },
  {
   "cell_type": "code",
   "execution_count": 15,
   "id": "74872f92-c11b-4fac-88c2-357522a198bf",
   "metadata": {},
   "outputs": [
    {
     "data": {
      "text/plain": [
       "(2, (2, 3))"
      ]
     },
     "execution_count": 15,
     "metadata": {},
     "output_type": "execute_result"
    }
   ],
   "source": [
    "arr5 = np.array(\n",
    "    [\n",
    "      [10,20,30],\n",
    "      [40,50,60]\n",
    "    ]\n",
    ")\n",
    "# 2 boyutlu , 2,3 şekilli bir matris.\n",
    "arr5.ndim, arr5.shape"
   ]
  },
  {
   "cell_type": "code",
   "execution_count": 16,
   "id": "c87e0b9d-00b4-43aa-8a97-6ce03505421c",
   "metadata": {},
   "outputs": [
    {
     "data": {
      "text/plain": [
       "(2, (2, 3))"
      ]
     },
     "execution_count": 16,
     "metadata": {},
     "output_type": "execute_result"
    }
   ],
   "source": [
    "arr6 = np.array(\n",
    "    [\n",
    "        [70,80,90],\n",
    "        [100,110,120]\n",
    "    ]\n",
    ")\n",
    "arr6.ndim , arr6.shape "
   ]
  },
  {
   "cell_type": "code",
   "execution_count": 17,
   "id": "7548ff3d-853d-4921-8f25-28f99212e17e",
   "metadata": {},
   "outputs": [
    {
     "data": {
      "text/plain": [
       "array([[ 80, 100, 120],\n",
       "       [140, 160, 180]])"
      ]
     },
     "execution_count": 17,
     "metadata": {},
     "output_type": "execute_result"
    }
   ],
   "source": [
    "result = arr5 + arr6\n",
    "result"
   ]
  },
  {
   "cell_type": "markdown",
   "id": "250f64ad-62e4-4119-a47e-7be66668292c",
   "metadata": {},
   "source": [
    "### Dot Product (İç Çarpım)"
   ]
  },
  {
   "cell_type": "code",
   "execution_count": 18,
   "id": "76855588-3c42-4410-971f-366276b0f83b",
   "metadata": {},
   "outputs": [
    {
     "ename": "ValueError",
     "evalue": "shapes (2,3) and (2,3) not aligned: 3 (dim 1) != 2 (dim 0)",
     "output_type": "error",
     "traceback": [
      "\u001b[1;31m---------------------------------------------------------------------------\u001b[0m",
      "\u001b[1;31mValueError\u001b[0m                                Traceback (most recent call last)",
      "Cell \u001b[1;32mIn[18], line 1\u001b[0m\n\u001b[1;32m----> 1\u001b[0m \u001b[43mnp\u001b[49m\u001b[38;5;241;43m.\u001b[39;49m\u001b[43mdot\u001b[49m\u001b[43m(\u001b[49m\u001b[43marr5\u001b[49m\u001b[43m,\u001b[49m\u001b[43marr6\u001b[49m\u001b[43m)\u001b[49m\n",
      "\u001b[1;31mValueError\u001b[0m: shapes (2,3) and (2,3) not aligned: 3 (dim 1) != 2 (dim 0)"
     ]
    }
   ],
   "source": [
    "np.dot(arr5,arr6)"
   ]
  },
  {
   "cell_type": "code",
   "execution_count": 22,
   "id": "6636bfe0-8187-4add-9bf3-242ea0fff221",
   "metadata": {},
   "outputs": [
    {
     "data": {
      "text/plain": [
       "((2, 3), (3, 2))"
      ]
     },
     "execution_count": 22,
     "metadata": {},
     "output_type": "execute_result"
    }
   ],
   "source": [
    "arr7 = np.array([\n",
    "    [10,20,30],\n",
    "    [40,50,60]\n",
    "])\n",
    "arr8 = np.array(\n",
    "    [\n",
    "        [10,20],\n",
    "        [30,40],\n",
    "        [50,60]\n",
    "    ]\n",
    ")\n",
    "arr7.shape, arr8.shape\n",
    "# Dot product -> İlk matrisin sütun sayısı, ikinci matrisin satır sayısına eşit olması."
   ]
  },
  {
   "cell_type": "code",
   "execution_count": 23,
   "id": "e5079327-b32c-407a-abfd-a5e86615a52d",
   "metadata": {},
   "outputs": [
    {
     "data": {
      "text/plain": [
       "array([[2200, 2800],\n",
       "       [4900, 6400]])"
      ]
     },
     "execution_count": 23,
     "metadata": {},
     "output_type": "execute_result"
    }
   ],
   "source": [
    "np.dot(arr7,arr8)"
   ]
  },
  {
   "cell_type": "code",
   "execution_count": 24,
   "id": "680e0f1f-e6dc-4f15-8c07-2d6c1e1a94ad",
   "metadata": {},
   "outputs": [
    {
     "data": {
      "text/plain": [
       "(3, (2, 3, 4))"
      ]
     },
     "execution_count": 24,
     "metadata": {},
     "output_type": "execute_result"
    }
   ],
   "source": [
    "arr9 = np.array(\n",
    "    [\n",
    "        [[10,20,30,40],[30,40,50,60],[50,60,70,80]],\n",
    "        [[70,80,90,100],[90,100,110,120],[110,120,130,40]]\n",
    "    ]\n",
    ")\n",
    "# 3D array\n",
    "arr9.ndim, arr9.shape"
   ]
  },
  {
   "cell_type": "code",
   "execution_count": 25,
   "id": "78cf2ebe-4c77-49e8-a6de-8e66a754ea8b",
   "metadata": {},
   "outputs": [
    {
     "data": {
      "text/plain": [
       "array([[ 23,  88, 165, ..., 196, 103,   5],\n",
       "       [ 94, 206,  44, ...,  88, 153,  64],\n",
       "       [122,  45, 190, ...,  90,  27, 140],\n",
       "       ...,\n",
       "       [ 78, 136,   9, ..., 146, 198,  52],\n",
       "       [ 68, 109, 177, ..., 246,  88, 190],\n",
       "       [ 52,  51, 151, ..., 137, 106, 190]], dtype=int32)"
      ]
     },
     "execution_count": 25,
     "metadata": {},
     "output_type": "execute_result"
    }
   ],
   "source": [
    "arr10 = np.random.randint(0,255,(1500,1000))\n",
    "arr10"
   ]
  },
  {
   "cell_type": "code",
   "execution_count": 28,
   "id": "ad459531-e0de-4896-b60b-a65e688c2a67",
   "metadata": {},
   "outputs": [
    {
     "name": "stdout",
     "output_type": "stream",
     "text": [
      "Collecting Pillow\n",
      "  Downloading pillow-11.1.0-cp39-cp39-win_amd64.whl.metadata (9.3 kB)\n",
      "Downloading pillow-11.1.0-cp39-cp39-win_amd64.whl (2.6 MB)\n",
      "   ---------------------------------------- 0.0/2.6 MB ? eta -:--:--\n",
      "   --- ------------------------------------ 0.3/2.6 MB ? eta -:--:--\n",
      "   ------------------------------- -------- 2.1/2.6 MB 9.0 MB/s eta 0:00:01\n",
      "   ---------------------------------------- 2.6/2.6 MB 8.4 MB/s eta 0:00:00\n",
      "Installing collected packages: Pillow\n",
      "Successfully installed Pillow-11.1.0\n"
     ]
    }
   ],
   "source": [
    "!pip install Pillow"
   ]
  },
  {
   "cell_type": "code",
   "execution_count": 29,
   "id": "67248c5e-7f05-4f0e-abdf-5597507b08ea",
   "metadata": {},
   "outputs": [],
   "source": [
    "from PIL import Image"
   ]
  },
  {
   "cell_type": "code",
   "execution_count": 33,
   "id": "7216d67c-1af3-4fad-b4a4-3560cad1af75",
   "metadata": {},
   "outputs": [],
   "source": [
    "image = Image.open(\"resim.jpg\")"
   ]
  },
  {
   "cell_type": "code",
   "execution_count": 34,
   "id": "ec916942-c760-420a-abb6-62b9ec100976",
   "metadata": {},
   "outputs": [
    {
     "data": {
      "text/plain": [
       "(3, (618, 620, 3))"
      ]
     },
     "execution_count": 34,
     "metadata": {},
     "output_type": "execute_result"
    }
   ],
   "source": [
    "image_arr = np.array(image)\n",
    "image_arr.ndim, image_arr.shape"
   ]
  },
  {
   "cell_type": "code",
   "execution_count": 35,
   "id": "7b36284c-1d73-4e23-9aa2-6d8c7e2eafc4",
   "metadata": {},
   "outputs": [
    {
     "data": {
      "text/plain": [
       "array([[[254, 255, 246],\n",
       "        [  0,   3,   0],\n",
       "        [  0,   3,   5],\n",
       "        ...,\n",
       "        [  1,   1,   1],\n",
       "        [  1,   1,   1],\n",
       "        [  2,   2,   2]],\n",
       "\n",
       "       [[253, 254, 246],\n",
       "        [  2,   5,   0],\n",
       "        [  0,   3,   2],\n",
       "        ...,\n",
       "        [  1,   1,   1],\n",
       "        [  0,   0,   0],\n",
       "        [  0,   0,   0]],\n",
       "\n",
       "       [[255, 254, 249],\n",
       "        [  1,   0,   0],\n",
       "        [  1,   4,   0],\n",
       "        ...,\n",
       "        [114, 114, 114],\n",
       "        [ 59,  59,  59],\n",
       "        [  0,   0,   0]],\n",
       "\n",
       "       ...,\n",
       "\n",
       "       [[252, 255, 255],\n",
       "        [  0,   2,   2],\n",
       "        [  0,   0,   7],\n",
       "        ...,\n",
       "        [189, 221, 232],\n",
       "        [109, 119, 128],\n",
       "        [  0,   0,   5]],\n",
       "\n",
       "       [[254, 255, 253],\n",
       "        [  0,   1,   0],\n",
       "        [  4,   5,  10],\n",
       "        ...,\n",
       "        [195, 224, 232],\n",
       "        [109, 118, 123],\n",
       "        [  6,   5,  10]],\n",
       "\n",
       "       [[254, 255, 251],\n",
       "        [  0,   2,   0],\n",
       "        [  0,   0,   5],\n",
       "        ...,\n",
       "        [103, 130, 137],\n",
       "        [ 54,  61,  67],\n",
       "        [  1,   0,   2]]], dtype=uint8)"
      ]
     },
     "execution_count": 35,
     "metadata": {},
     "output_type": "execute_result"
    }
   ],
   "source": [
    "image_arr"
   ]
  },
  {
   "cell_type": "code",
   "execution_count": null,
   "id": "8396adc1-a12a-4efe-86c3-41028e269ef1",
   "metadata": {},
   "outputs": [],
   "source": []
  }
 ],
 "metadata": {
  "kernelspec": {
   "display_name": "Python 3 (ipykernel)",
   "language": "python",
   "name": "python3"
  },
  "language_info": {
   "codemirror_mode": {
    "name": "ipython",
    "version": 3
   },
   "file_extension": ".py",
   "mimetype": "text/x-python",
   "name": "python",
   "nbconvert_exporter": "python",
   "pygments_lexer": "ipython3",
   "version": "3.9.21"
  }
 },
 "nbformat": 4,
 "nbformat_minor": 5
}
