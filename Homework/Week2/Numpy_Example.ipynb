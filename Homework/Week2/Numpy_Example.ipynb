{
 "cells": [
  {
   "cell_type": "code",
   "execution_count": 2,
   "id": "9a1b0c67-c53e-4bdf-a7aa-8731dd15d2ef",
   "metadata": {},
   "outputs": [],
   "source": [
    "import numpy as np"
   ]
  },
  {
   "cell_type": "markdown",
   "id": "54e0c0e7-427b-4c15-bdc5-d0dce41a524f",
   "metadata": {},
   "source": [
    "### Numpy Kütüphanesi Örnekleri"
   ]
  },
  {
   "cell_type": "markdown",
   "id": "6a5401a4-dd6d-4dd4-bc7b-68b03b5d3bf5",
   "metadata": {},
   "source": [
    "# 1. numpy.array() fonksiyonu\n",
    "Bir liste veya tuple gibi veri yapılarını NumPy dizisine dönüştürür."
   ]
  },
  {
   "cell_type": "code",
   "execution_count": 36,
   "id": "1a1f2163-3d52-4515-94e4-6f18e6e0862c",
   "metadata": {},
   "outputs": [
    {
     "name": "stdout",
     "output_type": "stream",
     "text": [
      "[0 1 2 3 4 5]\n"
     ]
    }
   ],
   "source": [
    "arr = np.array([0, 1, 2, 3, 4, 5])\n",
    "print(arr)  "
   ]
  },
  {
   "cell_type": "markdown",
   "id": "50349e70-1f05-4ab2-a6c3-7a8d42e36c53",
   "metadata": {},
   "source": [
    "# 2. numpy.zeros() fonksiyonu\n",
    "Belirtilen boyutta sıfırlardan oluşan bir NumPy dizisi oluşturur."
   ]
  },
  {
   "cell_type": "code",
   "execution_count": 35,
   "id": "6a1d7889-6897-42f5-b464-33cf3e8ebc31",
   "metadata": {},
   "outputs": [
    {
     "name": "stdout",
     "output_type": "stream",
     "text": [
      "[[0. 0. 0.]\n",
      " [0. 0. 0.]\n",
      " [0. 0. 0.]\n",
      " [0. 0. 0.]]\n"
     ]
    }
   ],
   "source": [
    "arr1 = np.zeros((4, 3))\n",
    "print(arr1)"
   ]
  },
  {
   "cell_type": "markdown",
   "id": "f9cbc976-b516-45e6-8303-971c8aff24ab",
   "metadata": {},
   "source": [
    "# 3. numpy.arange() fonksiyonu\n",
    "Belirtilen aralıkta düzenli artışlarla bir NumPy dizisi oluşturur."
   ]
  },
  {
   "cell_type": "code",
   "execution_count": 18,
   "id": "bb1bf2b2-aed9-4ffb-ae1f-57cec4f37f6c",
   "metadata": {},
   "outputs": [
    {
     "name": "stdout",
     "output_type": "stream",
     "text": [
      "[0 2 4 6 8]\n"
     ]
    }
   ],
   "source": [
    "arr2 = np.arange(0, 10, 2)\n",
    "print(arr2)"
   ]
  },
  {
   "cell_type": "markdown",
   "id": "9b7092ba-270b-479e-9cbe-8c852b24aa2a",
   "metadata": {},
   "source": [
    "# 4. numpy.linspace() fonksiyonu\n",
    "Başlangıç ve bitiş noktaları arasında eşit aralıklarla belirli sayıda değer oluşturur."
   ]
  },
  {
   "cell_type": "code",
   "execution_count": 19,
   "id": "05f37cba-898a-45b1-8b3b-dcf75e688f14",
   "metadata": {},
   "outputs": [
    {
     "name": "stdout",
     "output_type": "stream",
     "text": [
      "[0.         0.71428571 1.42857143 2.14285714 2.85714286 3.57142857\n",
      " 4.28571429 5.        ]\n"
     ]
    }
   ],
   "source": [
    "arr3 = np.linspace(0, 5, 8)\n",
    "print(arr3)"
   ]
  },
  {
   "cell_type": "markdown",
   "id": "306d05db-7cbf-481b-a94c-2d1a5658b6b8",
   "metadata": {},
   "source": [
    "# 5. numpy.random.rand() fonksiyonu\n",
    "Belirtilen şekle sahip rastgele (0 ile 1 arasında) sayılardan oluşan bir dizi oluşturur"
   ]
  },
  {
   "cell_type": "code",
   "execution_count": 20,
   "id": "7572c3a3-8983-4e19-82da-03ca94f300d3",
   "metadata": {},
   "outputs": [
    {
     "name": "stdout",
     "output_type": "stream",
     "text": [
      "[[0.28310919 0.30584742 0.46786411 0.80080715 0.67936476 0.96739052]\n",
      " [0.95239832 0.81907863 0.90792921 0.88307703 0.04755188 0.25212158]\n",
      " [0.33127315 0.50649349 0.92865121 0.15077281 0.24755271 0.11755072]\n",
      " [0.93148407 0.25380977 0.42878291 0.05022585 0.4952679  0.65242635]]\n"
     ]
    }
   ],
   "source": [
    "arr4 = np.random.rand(4, 6)\n",
    "print(arr4)"
   ]
  },
  {
   "cell_type": "markdown",
   "id": "3d5d2aef-1391-46af-aaf1-203a4dab0561",
   "metadata": {},
   "source": [
    "# 6. numpy.sum() fonksiyonu\n",
    "Dizideki elemanların toplamını hesaplar."
   ]
  },
  {
   "cell_type": "code",
   "execution_count": 34,
   "id": "ad6e7a26-4ac8-4dd6-8a40-14f30fa095a8",
   "metadata": {},
   "outputs": [
    {
     "name": "stdout",
     "output_type": "stream",
     "text": [
      "32\n",
      "[11  9 12]\n",
      "[ 9 23]\n"
     ]
    }
   ],
   "source": [
    "arr5 = np.array([[5,1,3], [6,8,9]])\n",
    "print(np.sum(arr5))       \n",
    "print(np.sum(arr5, axis=0)) # Sütun toplamları\n",
    "print(np.sum(arr5, axis=1)) # Satır toplamları"
   ]
  },
  {
   "cell_type": "markdown",
   "id": "ea3f3423-7499-4316-b4c8-0f9e0c34dc27",
   "metadata": {},
   "source": [
    "# 7. numpy.mean() fonksiyonu\n",
    "Dizinin elemanlarının ortalamasını hesaplar."
   ]
  },
  {
   "cell_type": "code",
   "execution_count": 23,
   "id": "b9028c55-db8a-45f4-a184-d2ccb60db4e2",
   "metadata": {},
   "outputs": [
    {
     "name": "stdout",
     "output_type": "stream",
     "text": [
      "3.0\n"
     ]
    }
   ],
   "source": [
    "arr6 = np.array([1, 2, 3, 4, 5])\n",
    "print(np.mean(arr6))"
   ]
  },
  {
   "cell_type": "markdown",
   "id": "8bafa701-bde5-4530-b84a-6f2367493364",
   "metadata": {},
   "source": [
    "# 8. numpy.sqrt() fonksiyonu\n",
    "Dizinin her elemanının karekökünü hesaplar."
   ]
  },
  {
   "cell_type": "code",
   "execution_count": 30,
   "id": "74f8f0f3-decf-4ce1-bcbb-f05ebb787f3a",
   "metadata": {},
   "outputs": [
    {
     "name": "stdout",
     "output_type": "stream",
     "text": [
      "[ 2. 11.  4.  5.]\n"
     ]
    }
   ],
   "source": [
    "arr7 = np.array([4, 121, 16, 25])\n",
    "print(np.sqrt(arr7))"
   ]
  },
  {
   "cell_type": "markdown",
   "id": "1a5471f7-539f-41b1-9d95-d5bd44e1bb8c",
   "metadata": {},
   "source": [
    "# 9. numpy.exp() fonksiyonu\n",
    "Dizinin her elemanının üstel fonksiyonunu (e^x) hesaplar."
   ]
  },
  {
   "cell_type": "code",
   "execution_count": 31,
   "id": "7d0e88d6-5a19-4004-be20-221ac36b6b0f",
   "metadata": {},
   "outputs": [
    {
     "name": "stdout",
     "output_type": "stream",
     "text": [
      "[ 1.          7.3890561  20.08553692 54.59815003]\n"
     ]
    }
   ],
   "source": [
    "arr8 = np.array([0, 2, 3, 4])\n",
    "print(np.exp(arr8))"
   ]
  },
  {
   "cell_type": "markdown",
   "id": "9621f513-d0ea-4e8d-875c-b642c8102e9e",
   "metadata": {},
   "source": [
    "# 10. numpy.unique() fonksiyonu \n",
    "Tekrar eden elemanları kaldırarak dizinin benzersiz elemanlarını döndürür."
   ]
  },
  {
   "cell_type": "code",
   "execution_count": 32,
   "id": "5cb54280-5afe-4507-a1f4-92c2d5e81b53",
   "metadata": {},
   "outputs": [
    {
     "name": "stdout",
     "output_type": "stream",
     "text": [
      "[1 2 3 4 5]\n"
     ]
    }
   ],
   "source": [
    "arr9 = np.array([1, 2, 2, 3, 4, 4, 4, 5])\n",
    "print(np.unique(arr9))"
   ]
  },
  {
   "cell_type": "code",
   "execution_count": null,
   "id": "5249ab57-2023-4faa-a721-a4d8b612802f",
   "metadata": {},
   "outputs": [],
   "source": []
  }
 ],
 "metadata": {
  "kernelspec": {
   "display_name": "Python 3 (ipykernel)",
   "language": "python",
   "name": "python3"
  },
  "language_info": {
   "codemirror_mode": {
    "name": "ipython",
    "version": 3
   },
   "file_extension": ".py",
   "mimetype": "text/x-python",
   "name": "python",
   "nbconvert_exporter": "python",
   "pygments_lexer": "ipython3",
   "version": "3.9.21"
  }
 },
 "nbformat": 4,
 "nbformat_minor": 5
}
