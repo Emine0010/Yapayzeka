{
 "cells": [
  {
   "cell_type": "markdown",
   "id": "1f6711ad-1ada-4983-89fb-398d422aa84d",
   "metadata": {},
   "source": [
    "# Decision Tree ve Random Forest Algoritmaları\n",
    "\n",
    "##  Decision Tree (Karar Ağacı)\n",
    "\n",
    "### Tanım:\n",
    "Decision Tree, sınıflandırma ve regresyon problemleri için kullanılan, ağaç yapısına benzeyen bir denetimli öğrenme algoritmasıdır. Veriyi dallara ayırarak, her bir yaprakta karar veya sonuç üretir.\n",
    "\n",
    "### Yapısı:\n",
    "- **Root Node (Kök Düğüm):** Tüm veriyi temsil eder.\n",
    "- **Decision Nodes (Karar Düğümleri):** Veriye göre bir özellik üzerinden dallanma yapar.\n",
    "- **Leaf Nodes (Yaprak Düğümleri):** Son kararı ya da sınıfı belirler.\n",
    "\n",
    "### Çalışma Mantığı:\n",
    "1. Veriyi bölen en iyi özelliği seçer.\n",
    "2. Bölme işlemi, belirlenen kriterlere (örneğin Entropy, Gini Index) göre yapılır.\n",
    "3. Ağaç, karar noktaları üzerinden yapraklara ulaşır ve sonucu tahmin eder.\n",
    "\n",
    "### Avantajları:\n",
    "- Kolay yorumlanabilir ve görselleştirilebilir.\n",
    "- Sayısal ve kategorik verilerle çalışabilir.\n",
    "- Veri ön işleme ihtiyacı azdır.\n",
    "\n",
    "### Dezavantajları:\n",
    "- Aşırı öğrenme (overfitting) riski yüksektir.\n",
    "- Dengeye oturmamış veri setlerinde yanlı tahmin yapabilir."
   ]
  },
  {
   "cell_type": "markdown",
   "id": "09b2db4a-cbce-43d4-ab94-0430c1332fdc",
   "metadata": {},
   "source": [
    "##  Random Forest (Rastgele Orman)\n",
    "\n",
    "## Tanım:\n",
    "Random Forest, birçok Decision Tree modelinin bir araya gelmesiyle oluşan bir topluluk (ensemble) algoritmasıdır.\n",
    "\n",
    "### Çalışma Mantığı:\n",
    "1. Eğitim verisi üzerinde rastgele örneklem alınır.\n",
    "2. Her örneklem ile bağımsız karar ağaçları eğitilir.\n",
    "3. Sınıflandırmada çoğunluk oylaması, regresyonda ortalama alınır.\n",
    "\n",
    "### Avantajları:\n",
    "- Overfitting riskini azaltır.\n",
    "- Yüksek doğruluk sağlar.\n",
    "- Eksik veri ve aykırı değerler karşısında daha dayanıklıdır.\n",
    "\n",
    "### Dezavantajları:\n",
    "- Model yorumlanması zordur.\n",
    "- Büyük veri setlerinde eğitim süresi uzundur.\n",
    "- Yüksek bellek kullanımı gerektirir.\n"
   ]
  }
 ],
 "metadata": {
  "kernelspec": {
   "display_name": "Python 3 (ipykernel)",
   "language": "python",
   "name": "python3"
  },
  "language_info": {
   "codemirror_mode": {
    "name": "ipython",
    "version": 3
   },
   "file_extension": ".py",
   "mimetype": "text/x-python",
   "name": "python",
   "nbconvert_exporter": "python",
   "pygments_lexer": "ipython3",
   "version": "3.9.21"
  }
 },
 "nbformat": 4,
 "nbformat_minor": 5
}
