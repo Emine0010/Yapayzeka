{
 "cells": [
  {
   "cell_type": "markdown",
   "id": "356311d4-d343-472f-b798-3750923f1131",
   "metadata": {},
   "source": [
    "# Scaling (Özellik Ölçekleme) Nedir?\n",
    "\n",
    "Makine öğrenmesi modelleriyle çalışırken, veri kümesindeki **özelliklerin (feature)** farklı ölçü birimlerine sahip olması algoritmaların performansını olumsuz etkileyebilir. İşte bu sorunu çözmek için **özellik ölçekleme (feature scaling)** yapılır.\n",
    "\n",
    "---\n",
    "\n",
    "## Neden Özellik Ölçekleme Yapılır?\n",
    "\n",
    "- **Farklı ölçeklerdeki veriler** algoritmaları yanıltabilir.\n",
    "- Mesafeye dayalı algoritmalarda (KNN, KMeans, vb.) **büyük değerli değişkenler daha baskın** olur.\n",
    "- **Gradient descent** gibi optimizasyon algoritmalarının **daha hızlı ve sağlıklı çalışması** için gereklidir.\n",
    "\n",
    "---"
   ]
  },
  {
   "cell_type": "markdown",
   "id": "bad47014-a669-48b4-b2d5-3667a21f3c59",
   "metadata": {},
   "source": [
    "##  Ölçekleme Yöntemleri\n",
    "\n",
    "### 1. Min-Max Scaling (Normalization)\n",
    "\n",
    "- Verileri genellikle **[0, 1]** aralığına dönüştürür.\n",
    "- **Avantaj**: Özellikle yapay sinir ağlarında iyi çalışır.\n",
    "- **Dezavantaj**: Aykırı değerlere duyarlıdır.\n",
    "\n",
    "---\n",
    "\n",
    "### 2. Standardization (Z-Score Normalization)\n",
    "\n",
    "- Verileri ortalaması 0, standart sapması 1 olacak şekilde dönüştürür.\n",
    "- **Avantaj**: Aykırı değerlere karşı daha dayanıklıdır.\n",
    "- **Kullanım**: SVM, Lojistik Regresyon, PCA vb.\n",
    "\n",
    "---\n",
    "\n",
    "### 3. Robust Scaling\n",
    "\n",
    "- Verileri medyan ve IQR (çeyrekler arası aralık) kullanarak ölçekler.\n",
    "- **Formül:**\n",
    "- **Avantaj**: Aykırı değerlere çok dayanıklıdır.\n",
    "\n",
    "---\n",
    "\n",
    "### 4. MaxAbs Scaling\n",
    "\n",
    "- Verileri **[-1, 1]** aralığına getirir.\n",
    "- Özellikle **sparse (seyrek)** veri setlerinde kullanılır.\n",
    "\n",
    "---"
   ]
  },
  {
   "cell_type": "markdown",
   "id": "85ecc325-b13f-476b-aca1-c0da8215c987",
   "metadata": {},
   "source": [
    "##  Hangi Durumda Hangi Yöntem?\n",
    "\n",
    "| Durum                         | Tercih Edilen Yöntem   |\n",
    "|------------------------------|------------------------|\n",
    "| Aykırı değer çoksa           | RobustScaler           |\n",
    "| Veriler normal dağılıyorsa   | StandardScaler         |\n",
    "| [0, 1] aralığı gerekiyorsa   | MinMaxScaler           |\n",
    "| Seyrek veri (sparse) varsa   | MaxAbsScaler           |"
   ]
  },
  {
   "cell_type": "code",
   "execution_count": null,
   "id": "632b6c93-0e66-4a7f-8d74-8a273539ab87",
   "metadata": {},
   "outputs": [],
   "source": []
  }
 ],
 "metadata": {
  "kernelspec": {
   "display_name": "Python 3 (ipykernel)",
   "language": "python",
   "name": "python3"
  },
  "language_info": {
   "codemirror_mode": {
    "name": "ipython",
    "version": 3
   },
   "file_extension": ".py",
   "mimetype": "text/x-python",
   "name": "python",
   "nbconvert_exporter": "python",
   "pygments_lexer": "ipython3",
   "version": "3.9.21"
  }
 },
 "nbformat": 4,
 "nbformat_minor": 5
}
