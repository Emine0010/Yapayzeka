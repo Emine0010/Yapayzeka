{
 "cells": [
  {
   "cell_type": "code",
   "execution_count": 1,
   "id": "853ca6a5-50ca-4905-8a36-19f8678bab48",
   "metadata": {},
   "outputs": [],
   "source": [
    "import pandas as pd"
   ]
  },
  {
   "cell_type": "code",
   "execution_count": 2,
   "id": "f21ca311-0564-4e5e-81dc-a62e994de5a7",
   "metadata": {},
   "outputs": [
    {
     "data": {
      "text/plain": [
       "Sales Person     0\n",
       "Country          6\n",
       "Product          6\n",
       "Date             6\n",
       "Amount           6\n",
       "Boxes Shipped    6\n",
       "dtype: int64"
      ]
     },
     "execution_count": 2,
     "metadata": {},
     "output_type": "execute_result"
    }
   ],
   "source": [
    "df3 = pd.read_csv(\"Chocolate Sales2.csv\")\n",
    "df3.isnull().sum()"
   ]
  },
  {
   "cell_type": "code",
   "execution_count": 3,
   "id": "701a2ee3-2983-4878-808a-00bb2a881a94",
   "metadata": {},
   "outputs": [
    {
     "data": {
      "text/html": [
       "<div>\n",
       "<style scoped>\n",
       "    .dataframe tbody tr th:only-of-type {\n",
       "        vertical-align: middle;\n",
       "    }\n",
       "\n",
       "    .dataframe tbody tr th {\n",
       "        vertical-align: top;\n",
       "    }\n",
       "\n",
       "    .dataframe thead th {\n",
       "        text-align: right;\n",
       "    }\n",
       "</style>\n",
       "<table border=\"1\" class=\"dataframe\">\n",
       "  <thead>\n",
       "    <tr style=\"text-align: right;\">\n",
       "      <th></th>\n",
       "      <th>Sales Person</th>\n",
       "      <th>Country</th>\n",
       "      <th>Product</th>\n",
       "      <th>Date</th>\n",
       "      <th>Amount</th>\n",
       "      <th>Boxes Shipped</th>\n",
       "    </tr>\n",
       "  </thead>\n",
       "  <tbody>\n",
       "    <tr>\n",
       "      <th>0</th>\n",
       "      <td>Jehu Rudeforth</td>\n",
       "      <td>UK</td>\n",
       "      <td>Mint Chip Choco</td>\n",
       "      <td>04-Jan-22</td>\n",
       "      <td>$5,320</td>\n",
       "      <td>NaN</td>\n",
       "    </tr>\n",
       "    <tr>\n",
       "      <th>1</th>\n",
       "      <td>Van Tuxwell</td>\n",
       "      <td>India</td>\n",
       "      <td>85% Dark Bars</td>\n",
       "      <td>01-Aug-22</td>\n",
       "      <td>$7,896</td>\n",
       "      <td>94.0</td>\n",
       "    </tr>\n",
       "    <tr>\n",
       "      <th>2</th>\n",
       "      <td>Gigi Bohling</td>\n",
       "      <td>India</td>\n",
       "      <td>Peanut Butter Cubes</td>\n",
       "      <td>07-Jul-22</td>\n",
       "      <td>$4,501</td>\n",
       "      <td>91.0</td>\n",
       "    </tr>\n",
       "    <tr>\n",
       "      <th>3</th>\n",
       "      <td>Jan Morforth</td>\n",
       "      <td>Australia</td>\n",
       "      <td>Peanut Butter Cubes</td>\n",
       "      <td>27-Apr-22</td>\n",
       "      <td>$12,726</td>\n",
       "      <td>342.0</td>\n",
       "    </tr>\n",
       "    <tr>\n",
       "      <th>4</th>\n",
       "      <td>Jehu Rudeforth</td>\n",
       "      <td>UK</td>\n",
       "      <td>Peanut Butter Cubes</td>\n",
       "      <td>24-Feb-22</td>\n",
       "      <td>$13,685</td>\n",
       "      <td>184.0</td>\n",
       "    </tr>\n",
       "  </tbody>\n",
       "</table>\n",
       "</div>"
      ],
      "text/plain": [
       "     Sales Person    Country              Product       Date    Amount  \\\n",
       "0  Jehu Rudeforth         UK      Mint Chip Choco  04-Jan-22   $5,320    \n",
       "1     Van Tuxwell      India        85% Dark Bars  01-Aug-22   $7,896    \n",
       "2    Gigi Bohling      India  Peanut Butter Cubes  07-Jul-22   $4,501    \n",
       "3    Jan Morforth  Australia  Peanut Butter Cubes  27-Apr-22  $12,726    \n",
       "4  Jehu Rudeforth         UK  Peanut Butter Cubes  24-Feb-22  $13,685    \n",
       "\n",
       "   Boxes Shipped  \n",
       "0            NaN  \n",
       "1           94.0  \n",
       "2           91.0  \n",
       "3          342.0  \n",
       "4          184.0  "
      ]
     },
     "execution_count": 3,
     "metadata": {},
     "output_type": "execute_result"
    }
   ],
   "source": [
    "df3.head(5)"
   ]
  },
  {
   "cell_type": "code",
   "execution_count": 4,
   "id": "c466cc2a-527a-4b14-98d9-b8805034b8fa",
   "metadata": {},
   "outputs": [
    {
     "data": {
      "text/plain": [
       "np.float64(162.10110294117646)"
      ]
     },
     "execution_count": 4,
     "metadata": {},
     "output_type": "execute_result"
    }
   ],
   "source": [
    "df3[\"Boxes Shipped\"].mean()"
   ]
  },
  {
   "cell_type": "code",
   "execution_count": 5,
   "id": "87a04363-2cdb-498f-ab62-5ba2450f6ee9",
   "metadata": {},
   "outputs": [],
   "source": [
    "#df3[\"Boxes Shipped\"].fillna( df3[\"Boxes Shipped\"].mean(), inplace=True )\n",
    "df3[\"Boxes Shipped\"] = df3[\"Boxes Shipped\"].fillna( df3[\"Boxes Shipped\"].mean())"
   ]
  },
  {
   "cell_type": "code",
   "execution_count": 6,
   "id": "238e5a21-abc7-477a-be5f-812eafb5b1fa",
   "metadata": {},
   "outputs": [
    {
     "data": {
      "text/plain": [
       "Sales Person     0\n",
       "Country          6\n",
       "Product          6\n",
       "Date             6\n",
       "Amount           6\n",
       "Boxes Shipped    0\n",
       "dtype: int64"
      ]
     },
     "execution_count": 6,
     "metadata": {},
     "output_type": "execute_result"
    }
   ],
   "source": [
    "df3.isnull().sum()"
   ]
  },
  {
   "cell_type": "code",
   "execution_count": 7,
   "id": "68ef7f75-4b80-4641-8084-829a13051eec",
   "metadata": {},
   "outputs": [
    {
     "data": {
      "text/plain": [
       "0        $5,320 \n",
       "1        $7,896 \n",
       "2        $4,501 \n",
       "3       $12,726 \n",
       "4       $13,685 \n",
       "          ...   \n",
       "1089     $4,410 \n",
       "1090     $6,559 \n",
       "1091       $574 \n",
       "1092     $2,086 \n",
       "1093     $5,075 \n",
       "Name: Amount, Length: 1094, dtype: object"
      ]
     },
     "execution_count": 7,
     "metadata": {},
     "output_type": "execute_result"
    }
   ],
   "source": [
    "df3[\"Amount\"]"
   ]
  },
  {
   "cell_type": "code",
   "execution_count": 8,
   "id": "96587081-1935-4518-915a-ebac33b228bc",
   "metadata": {},
   "outputs": [
    {
     "data": {
      "text/plain": [
       "0        5320 \n",
       "1        7896 \n",
       "2        4501 \n",
       "3       12726 \n",
       "4       13685 \n",
       "         ...  \n",
       "1089     4410 \n",
       "1090     6559 \n",
       "1091      574 \n",
       "1092     2086 \n",
       "1093     5075 \n",
       "Name: Amount, Length: 1094, dtype: object"
      ]
     },
     "execution_count": 8,
     "metadata": {},
     "output_type": "execute_result"
    }
   ],
   "source": [
    "# $5,320 -> 5320.00\n",
    "# Önce formatı düzenle!\n",
    "# obl->float\n",
    "df3[\"Amount\"] = df3[\"Amount\"].astype(str).str.replace(\"[$,]\",\"\",regex =True).replace(\"\",\"0\")\n",
    "df3[\"Amount\"]"
   ]
  },
  {
   "cell_type": "code",
   "execution_count": 9,
   "id": "e2c36487-9a0f-4b3e-bf13-aa7eca9cd71b",
   "metadata": {},
   "outputs": [],
   "source": [
    "df3[\"Amount\"] = ( pd.to_numeric(df3['Amount'],errors=\"coerce\"))"
   ]
  },
  {
   "cell_type": "code",
   "execution_count": 10,
   "id": "cd4842ba-e269-4640-a144-5cb2e6e94ec7",
   "metadata": {},
   "outputs": [
    {
     "data": {
      "text/plain": [
       "0        5320.0\n",
       "1        7896.0\n",
       "2        4501.0\n",
       "3       12726.0\n",
       "4       13685.0\n",
       "         ...   \n",
       "1089     4410.0\n",
       "1090     6559.0\n",
       "1091      574.0\n",
       "1092     2086.0\n",
       "1093     5075.0\n",
       "Name: Amount, Length: 1094, dtype: float64"
      ]
     },
     "execution_count": 10,
     "metadata": {},
     "output_type": "execute_result"
    }
   ],
   "source": [
    "df3[\"Amount\"]"
   ]
  },
  {
   "cell_type": "code",
   "execution_count": 11,
   "id": "4e4dc0fe-88f3-46dc-bfb0-b4ba8c639b6e",
   "metadata": {},
   "outputs": [
    {
     "data": {
      "text/plain": [
       "Sales Person     0\n",
       "Country          6\n",
       "Product          6\n",
       "Date             6\n",
       "Amount           7\n",
       "Boxes Shipped    0\n",
       "dtype: int64"
      ]
     },
     "execution_count": 11,
     "metadata": {},
     "output_type": "execute_result"
    }
   ],
   "source": [
    "df3.isnull().sum()"
   ]
  },
  {
   "cell_type": "code",
   "execution_count": null,
   "id": "fef8a4b7-5e26-4b6a-b99b-e2ecb7593c4f",
   "metadata": {},
   "outputs": [],
   "source": [
    "#Ders 3 : df3[\"Amount\"] = df3 [\"Amount\"].fillna ( df3 [\"Amount\"]"
   ]
  },
  {
   "cell_type": "code",
   "execution_count": 13,
   "id": "1007299e-83b3-43f9-9c66-3278fc4c4fae",
   "metadata": {},
   "outputs": [
    {
     "data": {
      "text/plain": [
       "'Australia'"
      ]
     },
     "execution_count": 13,
     "metadata": {},
     "output_type": "execute_result"
    }
   ],
   "source": [
    "df3[\"Country\"].mode()[0]"
   ]
  },
  {
   "cell_type": "code",
   "execution_count": null,
   "id": "f04616a1-b61d-48a4-9728-5121d5540126",
   "metadata": {},
   "outputs": [],
   "source": []
  }
 ],
 "metadata": {
  "kernelspec": {
   "display_name": "Python 3 (ipykernel)",
   "language": "python",
   "name": "python3"
  },
  "language_info": {
   "codemirror_mode": {
    "name": "ipython",
    "version": 3
   },
   "file_extension": ".py",
   "mimetype": "text/x-python",
   "name": "python",
   "nbconvert_exporter": "python",
   "pygments_lexer": "ipython3",
   "version": "3.9.21"
  }
 },
 "nbformat": 4,
 "nbformat_minor": 5
}
